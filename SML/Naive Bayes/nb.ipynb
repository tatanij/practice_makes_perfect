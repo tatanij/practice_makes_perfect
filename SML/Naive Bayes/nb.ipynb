{
 "cells": [
  {
   "cell_type": "markdown",
   "metadata": {},
   "source": [
    "# Naive Bayes with MNIST\n"
   ]
  },
  {
   "cell_type": "code",
   "execution_count": 3,
   "metadata": {},
   "outputs": [],
   "source": [
    "import numpy as np\n",
    "import import_ipynb\n",
    "from utils import get_mnist_data\n",
    "from datetime import datetime\n",
    "from scipy.stats import norm\n",
    "from scipy.stats import multivariate_normal as mvn"
   ]
  },
  {
   "cell_type": "markdown",
   "metadata": {},
   "source": [
    "For the naive bayes model, we will need to store the Gaussian paramaeters in a dictionary containing the means and variance for each label (Y values). \n",
    "\n",
    "To calculate the priors more efficiently (since they are monotonically increasing), we use the log  likelihood. This in"
   ]
  },
  {
   "cell_type": "code",
   "execution_count": null,
   "metadata": {
    "scrolled": false
   },
   "outputs": [
    {
     "name": "stdout",
     "output_type": "stream",
     "text": [
      "Training time: 0:00:00.723595\n",
      "Training accuracy: 0.8148\n",
      "Time taken to compute train accuracy of train size: 5000 :: 0:00:34.926350\n"
     ]
    }
   ],
   "source": [
    "class NaiveBayes(object):\n",
    "    def fit(self, X, Y, smoothing=10e-3):\n",
    "        self.gaussians = dict()\n",
    "        self.priors = dict()\n",
    "        labels = set(Y) # store all unique values in Y\n",
    "        \n",
    "        for c in labels:\n",
    "            current_x = X[Y == c] # give the current value of X where y is the same as the current label c.\n",
    "            self.gaussians[c] = {\n",
    "                'mean': current_x.mean(axis=0),\n",
    "                'var': current_x.var(axis=0) + smoothing\n",
    "            }\n",
    "            \n",
    "            self.priors[c] = -np.log(float(len(Y[Y==c]))/len(Y))\n",
    "            \n",
    "    def score(self,X,Y):\n",
    "        P = self.predict(X)\n",
    "        return np.mean(P==Y)\n",
    "    \n",
    "    def predict(self,X):\n",
    "        N,D = X.shape\n",
    "        K = len(self.gaussians) # for each N sample there are K different probabilities to be calculated\n",
    "        P = np.zeros((N,K))\n",
    "        # loop through all gaussians to get the mean and the variance\n",
    "        for c, g in self.gaussians.items():\n",
    "            mean, var = g['mean'],g['var']\n",
    "            P[:,c] = mvn.logpdf(X, mean=mean, cov=var) + self.priors[c]\n",
    "        return np.argmax(P,axis=1)\n",
    "        \n",
    "    \n",
    "if __name__ == '__main__':\n",
    "    fn = '../mnist/train.csv'\n",
    "    X,Y = get_mnist_data(fn,10000)\n",
    "    Ntrain = int(len(Y)/2)\n",
    "    Xtrain, Ytrain = X[:Ntrain], Y[:Ntrain]\n",
    "    Xtest, Ytest = X[Ntrain:], Y[Ntrain:]\n",
    "    \n",
    "    model = NaiveBayes()\n",
    "    \n",
    "    # time how long it takes to fit the model\n",
    "    t0 = datetime.now()\n",
    "    model.fit(Xtrain,Ytrain)\n",
    "    print('Training time:',(datetime.now() - t0))\n",
    "    \n",
    "    \n",
    "    # time how long it takes to take the training accuracy\n",
    "    t0 = datetime.now()\n",
    "    print('Training accuracy:', model.score(Xtrain,Ytrain))\n",
    "    print('Time taken to compute train accuracy of train size:',len(Ytrain),'::', (datetime.now()-t0))\n",
    "    \n",
    "    #time how long it takes to get the test accuracy\n",
    "    t0 = datetime.now()\n",
    "    print('Testing accuracy:',model.score(Xtest,Ytest))\n",
    "    print('Time taken to compute testing accuracy of sample size:',len(Ytest),'::',(datetime.now()-t0))"
   ]
  }
 ],
 "metadata": {
  "kernelspec": {
   "display_name": "Python 3",
   "language": "python",
   "name": "python3"
  },
  "language_info": {
   "codemirror_mode": {
    "name": "ipython",
    "version": 3
   },
   "file_extension": ".py",
   "mimetype": "text/x-python",
   "name": "python",
   "nbconvert_exporter": "python",
   "pygments_lexer": "ipython3",
   "version": "3.6.4"
  }
 },
 "nbformat": 4,
 "nbformat_minor": 2
}
