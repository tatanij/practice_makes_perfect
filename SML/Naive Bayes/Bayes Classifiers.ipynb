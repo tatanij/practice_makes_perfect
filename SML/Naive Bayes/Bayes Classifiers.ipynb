{
 "cells": [
  {
   "cell_type": "markdown",
   "metadata": {},
   "source": [
    "# Bayes Classifiers\n",
    "\n",
    "How can P(X|C) be modelled when the input features are not independent of each other?\n",
    "\n",
    "There are multiple ways this can be done, for example: \n",
    "- Can use full covariance matrix \n",
    "- Use a Hidden Markov Model\n",
    "- Create a Bayes Net\n",
    "\n",
    "\n",
    "### Multivariate Gaussian distributions are not independent\n",
    "\n",
    "#add more info here\n"
   ]
  },
  {
   "cell_type": "code",
   "execution_count": 1,
   "metadata": {},
   "outputs": [],
   "source": [
    "import numpy as np\n",
    "from datetime import datetime\n",
    "from scipy.stats import norm\n",
    "from scipy.stats import multivariate_normal as mvn\n",
    "\n",
    "import sys\n",
    "sys.path.append('../')\n",
    "from utils import get_mnist_data"
   ]
  },
  {
   "cell_type": "markdown",
   "metadata": {},
   "source": [
    "\n",
    "# Implementation\n",
    "\n",
    "In general, the implementation of a Bayes Classifier is much the same as the Naive Bayes however, involves using the covariance of each value of X. Each value of X has to be transposed to provide a DxD matrix otherwise it will produce an NxN matrix. Numpy uses n-1 in covariance to avoid bias."
   ]
  },
  {
   "cell_type": "code",
   "execution_count": 13,
   "metadata": {},
   "outputs": [],
   "source": [
    "class Bayes(object):\n",
    "    def fit(self, X,Y, smoothing=10e-3):\n",
    "        N,D = X.shape\n",
    "        self.gaussians = dict()\n",
    "        self.priors = dict()\n",
    "        labels = set(Y)\n",
    "        for c in labels:\n",
    "            current_x = X[Y == c]\n",
    "            self.gaussians[c] = {\n",
    "                'mean': current_x.mean(axis=0),\n",
    "                'cov': np.cov(current_x.T) + np.eye(D) + smoothing\n",
    "            }\n",
    "            self.priors[c] = float(len(Y[Y==c]))/len(Y)\n",
    "    \n",
    "    \n",
    "    def predict(self,X):\n",
    "        N,D = X.shape\n",
    "        K = len(self.gaussians)\n",
    "        Yhat = np.zeros((N,K))\n",
    "        for c, n in self.gaussians.items():\n",
    "            mean, cov = n['mean'],n['cov']\n",
    "            Yhat[:,c] = mvn.logpdf(X, mean=mean, cov=cov) + np.log(self.priors[c])\n",
    "            \n",
    "        return np.argmax(Yhat,axis=1)\n",
    "    \n",
    "    def score(self,X,Y):\n",
    "        Yhat = self.predict(X)\n",
    "        return np.mean(Y==Yhat)\n",
    "    "
   ]
  },
  {
   "cell_type": "markdown",
   "metadata": {},
   "source": []
  },
  {
   "cell_type": "code",
   "execution_count": 14,
   "metadata": {},
   "outputs": [
    {
     "name": "stdout",
     "output_type": "stream",
     "text": [
      "Training time: 0:00:00.314981\n",
      "Training accuracy: 0.9066\n",
      "Time taken to compute train accuracy of train size: 5000 :: 0:00:04.399151\n",
      "Testing accuracy: 0.8728\n",
      "Time taken to compute testing accuracy of sample size: 5000 :: 0:00:05.015478\n"
     ]
    }
   ],
   "source": [
    "if __name__=='__main__':\n",
    "    fn = '../mnist/train.csv'\n",
    "    X,Y = get_mnist_data(fn,10000)\n",
    "    Ntrain = int(len(Y)/2)\n",
    "    Xtrain, Ytrain = X[:Ntrain], Y[:Ntrain]\n",
    "    Xtest, Ytest = X[Ntrain:], Y[Ntrain:]\n",
    "    \n",
    "    model = Bayes()\n",
    "    \n",
    "    # time how long it takes to fit the model\n",
    "    t0 = datetime.now()\n",
    "    model.fit(Xtrain,Ytrain)\n",
    "    print('Training time:',(datetime.now() - t0))\n",
    "    \n",
    "    \n",
    "    # time how long it takes to take the training accuracy\n",
    "    t0 = datetime.now()\n",
    "    print('Training accuracy:', model.score(Xtrain,Ytrain))\n",
    "    print('Time taken to compute train accuracy of train size:',len(Ytrain),'::', (datetime.now()-t0))\n",
    "    \n",
    "    #time how long it takes to get the test accuracy\n",
    "    t0 = datetime.now()\n",
    "    print('Testing accuracy:',model.score(Xtest,Ytest))\n",
    "    print('Time taken to compute testing accuracy of sample size:',len(Ytest),'::',(datetime.now()-t0))"
   ]
  }
 ],
 "metadata": {
  "kernelspec": {
   "display_name": "Python 3",
   "language": "python",
   "name": "python3"
  },
  "language_info": {
   "codemirror_mode": {
    "name": "ipython",
    "version": 3
   },
   "file_extension": ".py",
   "mimetype": "text/x-python",
   "name": "python",
   "nbconvert_exporter": "python",
   "pygments_lexer": "ipython3",
   "version": "3.6.4"
  }
 },
 "nbformat": 4,
 "nbformat_minor": 2
}
