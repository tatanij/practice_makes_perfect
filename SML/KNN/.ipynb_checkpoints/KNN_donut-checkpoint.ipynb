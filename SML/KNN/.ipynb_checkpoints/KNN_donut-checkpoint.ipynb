{
 "cells": [
  {
   "cell_type": "markdown",
   "metadata": {},
   "source": [
    "# Classifying Donut data using KNN"
   ]
  },
  {
   "cell_type": "code",
   "execution_count": 1,
   "metadata": {},
   "outputs": [
    {
     "name": "stdout",
     "output_type": "stream",
     "text": [
      "importing Jupyter notebook from KNN_Intuition.ipynb\n"
     ]
    }
   ],
   "source": [
    "import import_ipynb\n",
    "from KNN_Intuition import KNN\n",
    "import matplotlib.pyplot as plt\n",
    "\n",
    "import sys\n",
    "sys.path.append('../')\n",
    "from utils import generate_donut"
   ]
  },
  {
   "cell_type": "markdown",
   "metadata": {},
   "source": [
    "Linear classifiers cannot solve this problem since there is no line separator to distinguish the two classes. "
   ]
  },
  {
   "cell_type": "code",
   "execution_count": null,
   "metadata": {},
   "outputs": [],
   "source": [
    "if __name__ == '__main__':\n",
    "    X,Y = generate_donut()\n",
    "    \n",
    "    plt.scatter(X[:,0],X[:,1], s=100, c=Y, alpha=0.5)\n",
    "    plt.show()\n",
    "    \n",
    "    model = KNN(3)\n",
    "    model.fit(X,Y)\n",
    "    print('Accuracy:',model.score(X,Y))\n",
    "    "
   ]
  }
 ],
 "metadata": {
  "kernelspec": {
   "display_name": "Python 3",
   "language": "python",
   "name": "python3"
  },
  "language_info": {
   "codemirror_mode": {
    "name": "ipython",
    "version": 3
   },
   "file_extension": ".py",
   "mimetype": "text/x-python",
   "name": "python",
   "nbconvert_exporter": "python",
   "pygments_lexer": "ipython3",
   "version": "3.6.4"
  }
 },
 "nbformat": 4,
 "nbformat_minor": 2
}
