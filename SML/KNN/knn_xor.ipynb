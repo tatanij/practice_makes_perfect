{
 "cells": [
  {
   "cell_type": "markdown",
   "metadata": {},
   "source": [
    "# XOR in KNN"
   ]
  },
  {
   "cell_type": "markdown",
   "metadata": {},
   "source": [
    "Demonstrating how to use XOR in KNN. The sample data being obtained uses significantly more points than 4 since it's already been proven that KNN can easily solve that problem. "
   ]
  },
  {
   "cell_type": "code",
   "execution_count": 1,
   "metadata": {},
   "outputs": [
    {
     "name": "stdout",
     "output_type": "stream",
     "text": [
      "importing Jupyter notebook from KNN_Intuition.ipynb\n"
     ]
    },
    {
     "data": {
      "text/plain": [
       "<matplotlib.figure.Figure at 0x188259206d8>"
      ]
     },
     "metadata": {},
     "output_type": "display_data"
    },
    {
     "name": "stdout",
     "output_type": "stream",
     "text": [
      "Accuracy: 0.99\n"
     ]
    }
   ],
   "source": [
    "import import_ipynb\n",
    "from KNN_Intuition import KNN\n",
    "import matplotlib.pyplot as plt\n",
    "\n",
    "import sys\n",
    "sys.path.append('../')\n",
    "from utils import generate_xor\n",
    "\n",
    "if __name__ == '__main__':\n",
    "    X, Y = generate_xor()\n",
    "    \n",
    "    plt.scatter(X[:,0], X[:,1], s=100, c=Y, alpha=0.5)\n",
    "    plt.show()\n",
    "    \n",
    "    model = KNN(3) # Dong 3-Nearest Neighbours\n",
    "    model.fit(X,Y)\n",
    "    print(\"Accuracy:\", model.score(X,Y))\n",
    "    \n",
    "    "
   ]
  }
 ],
 "metadata": {
  "kernelspec": {
   "display_name": "Python 3",
   "language": "python",
   "name": "python3"
  },
  "language_info": {
   "codemirror_mode": {
    "name": "ipython",
    "version": 3
   },
   "file_extension": ".py",
   "mimetype": "text/x-python",
   "name": "python",
   "nbconvert_exporter": "python",
   "pygments_lexer": "ipython3",
   "version": "3.6.4"
  }
 },
 "nbformat": 4,
 "nbformat_minor": 2
}
